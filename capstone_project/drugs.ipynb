{
 "cells": [
  {
   "cell_type": "code",
   "execution_count": 2,
   "id": "d34c0872",
   "metadata": {},
   "outputs": [],
   "source": [
    "import pandas as pd\n",
    "import numpy as np\n",
    "import matplotlib.pyplot as plt\n",
    "import seaborn as sns\n",
    "\n",
    "from sklearn.model_selection import train_test_split\n",
    "from sklearn.preprocessing import LabelEncoder\n",
    "from sklearn.linear_model import LogisticRegression\n",
    "from sklearn.tree import DecisionTreeClassifier\n",
    "from sklearn.ensemble import RandomForestClassifier\n",
    "from sklearn.metrics import accuracy_score, confusion_matrix, classification_report\n"
   ]
  },
  {
   "cell_type": "code",
   "execution_count": 2,
   "id": "3abf30b2",
   "metadata": {},
   "outputs": [
    {
     "data": {
      "text/html": [
       "<div>\n",
       "<style scoped>\n",
       "    .dataframe tbody tr th:only-of-type {\n",
       "        vertical-align: middle;\n",
       "    }\n",
       "\n",
       "    .dataframe tbody tr th {\n",
       "        vertical-align: top;\n",
       "    }\n",
       "\n",
       "    .dataframe thead th {\n",
       "        text-align: right;\n",
       "    }\n",
       "</style>\n",
       "<table border=\"1\" class=\"dataframe\">\n",
       "  <thead>\n",
       "    <tr style=\"text-align: right;\">\n",
       "      <th></th>\n",
       "      <th>Age</th>\n",
       "      <th>Sex</th>\n",
       "      <th>BP</th>\n",
       "      <th>Cholesterol</th>\n",
       "      <th>Na_to_K</th>\n",
       "      <th>Drug</th>\n",
       "    </tr>\n",
       "  </thead>\n",
       "  <tbody>\n",
       "    <tr>\n",
       "      <th>0</th>\n",
       "      <td>23</td>\n",
       "      <td>F</td>\n",
       "      <td>HIGH</td>\n",
       "      <td>HIGH</td>\n",
       "      <td>25.355</td>\n",
       "      <td>DrugY</td>\n",
       "    </tr>\n",
       "    <tr>\n",
       "      <th>1</th>\n",
       "      <td>47</td>\n",
       "      <td>M</td>\n",
       "      <td>LOW</td>\n",
       "      <td>HIGH</td>\n",
       "      <td>13.093</td>\n",
       "      <td>drugC</td>\n",
       "    </tr>\n",
       "    <tr>\n",
       "      <th>2</th>\n",
       "      <td>47</td>\n",
       "      <td>M</td>\n",
       "      <td>LOW</td>\n",
       "      <td>HIGH</td>\n",
       "      <td>10.114</td>\n",
       "      <td>drugC</td>\n",
       "    </tr>\n",
       "    <tr>\n",
       "      <th>3</th>\n",
       "      <td>28</td>\n",
       "      <td>F</td>\n",
       "      <td>NORMAL</td>\n",
       "      <td>HIGH</td>\n",
       "      <td>7.798</td>\n",
       "      <td>drugX</td>\n",
       "    </tr>\n",
       "    <tr>\n",
       "      <th>4</th>\n",
       "      <td>61</td>\n",
       "      <td>F</td>\n",
       "      <td>LOW</td>\n",
       "      <td>HIGH</td>\n",
       "      <td>18.043</td>\n",
       "      <td>DrugY</td>\n",
       "    </tr>\n",
       "  </tbody>\n",
       "</table>\n",
       "</div>"
      ],
      "text/plain": [
       "   Age Sex      BP Cholesterol  Na_to_K   Drug\n",
       "0   23   F    HIGH        HIGH   25.355  DrugY\n",
       "1   47   M     LOW        HIGH   13.093  drugC\n",
       "2   47   M     LOW        HIGH   10.114  drugC\n",
       "3   28   F  NORMAL        HIGH    7.798  drugX\n",
       "4   61   F     LOW        HIGH   18.043  DrugY"
      ]
     },
     "execution_count": 2,
     "metadata": {},
     "output_type": "execute_result"
    }
   ],
   "source": [
    "df = pd.read_csv ('drug200.csv')\n",
    "df.head()"
   ]
  },
  {
   "cell_type": "code",
   "execution_count": 4,
   "id": "5747206c",
   "metadata": {},
   "outputs": [
    {
     "name": "stdout",
     "output_type": "stream",
     "text": [
      "<class 'pandas.core.frame.DataFrame'>\n",
      "RangeIndex: 200 entries, 0 to 199\n",
      "Data columns (total 6 columns):\n",
      " #   Column       Non-Null Count  Dtype  \n",
      "---  ------       --------------  -----  \n",
      " 0   Age          200 non-null    int64  \n",
      " 1   Sex          200 non-null    object \n",
      " 2   BP           200 non-null    object \n",
      " 3   Cholesterol  200 non-null    object \n",
      " 4   Na_to_K      200 non-null    float64\n",
      " 5   Drug         200 non-null    object \n",
      "dtypes: float64(1), int64(1), object(4)\n",
      "memory usage: 9.5+ KB\n"
     ]
    }
   ],
   "source": [
    "df.info ()\n"
   ]
  },
  {
   "cell_type": "code",
   "execution_count": 5,
   "id": "50837dae",
   "metadata": {},
   "outputs": [
    {
     "data": {
      "text/plain": [
       "Drug\n",
       "DrugY    91\n",
       "drugX    54\n",
       "drugA    23\n",
       "drugC    16\n",
       "drugB    16\n",
       "Name: count, dtype: int64"
      ]
     },
     "execution_count": 5,
     "metadata": {},
     "output_type": "execute_result"
    }
   ],
   "source": [
    "df.Drug.value_counts()\n"
   ]
  },
  {
   "cell_type": "code",
   "execution_count": 6,
   "id": "06ef584c",
   "metadata": {},
   "outputs": [
    {
     "data": {
      "text/plain": [
       "Sex\n",
       "M    104\n",
       "F     96\n",
       "Name: count, dtype: int64"
      ]
     },
     "execution_count": 6,
     "metadata": {},
     "output_type": "execute_result"
    }
   ],
   "source": [
    "df.Sex.value_counts()"
   ]
  },
  {
   "cell_type": "code",
   "execution_count": 7,
   "id": "147f409d",
   "metadata": {},
   "outputs": [
    {
     "data": {
      "text/plain": [
       "BP\n",
       "HIGH      77\n",
       "LOW       64\n",
       "NORMAL    59\n",
       "Name: count, dtype: int64"
      ]
     },
     "execution_count": 7,
     "metadata": {},
     "output_type": "execute_result"
    }
   ],
   "source": [
    "df.BP.value_counts()"
   ]
  },
  {
   "cell_type": "code",
   "execution_count": 8,
   "id": "60b75762",
   "metadata": {},
   "outputs": [
    {
     "data": {
      "text/plain": [
       "Cholesterol\n",
       "HIGH      103\n",
       "NORMAL     97\n",
       "Name: count, dtype: int64"
      ]
     },
     "execution_count": 8,
     "metadata": {},
     "output_type": "execute_result"
    }
   ],
   "source": [
    "df.Cholesterol.value_counts()"
   ]
  },
  {
   "cell_type": "code",
   "execution_count": 9,
   "id": "0ec903cb",
   "metadata": {},
   "outputs": [
    {
     "data": {
      "text/html": [
       "<div>\n",
       "<style scoped>\n",
       "    .dataframe tbody tr th:only-of-type {\n",
       "        vertical-align: middle;\n",
       "    }\n",
       "\n",
       "    .dataframe tbody tr th {\n",
       "        vertical-align: top;\n",
       "    }\n",
       "\n",
       "    .dataframe thead th {\n",
       "        text-align: right;\n",
       "    }\n",
       "</style>\n",
       "<table border=\"1\" class=\"dataframe\">\n",
       "  <thead>\n",
       "    <tr style=\"text-align: right;\">\n",
       "      <th></th>\n",
       "      <th>Age</th>\n",
       "      <th>Na_to_K</th>\n",
       "    </tr>\n",
       "  </thead>\n",
       "  <tbody>\n",
       "    <tr>\n",
       "      <th>count</th>\n",
       "      <td>200.000000</td>\n",
       "      <td>200.000000</td>\n",
       "    </tr>\n",
       "    <tr>\n",
       "      <th>mean</th>\n",
       "      <td>44.315000</td>\n",
       "      <td>16.084485</td>\n",
       "    </tr>\n",
       "    <tr>\n",
       "      <th>std</th>\n",
       "      <td>16.544315</td>\n",
       "      <td>7.223956</td>\n",
       "    </tr>\n",
       "    <tr>\n",
       "      <th>min</th>\n",
       "      <td>15.000000</td>\n",
       "      <td>6.269000</td>\n",
       "    </tr>\n",
       "    <tr>\n",
       "      <th>25%</th>\n",
       "      <td>31.000000</td>\n",
       "      <td>10.445500</td>\n",
       "    </tr>\n",
       "    <tr>\n",
       "      <th>50%</th>\n",
       "      <td>45.000000</td>\n",
       "      <td>13.936500</td>\n",
       "    </tr>\n",
       "    <tr>\n",
       "      <th>75%</th>\n",
       "      <td>58.000000</td>\n",
       "      <td>19.380000</td>\n",
       "    </tr>\n",
       "    <tr>\n",
       "      <th>max</th>\n",
       "      <td>74.000000</td>\n",
       "      <td>38.247000</td>\n",
       "    </tr>\n",
       "  </tbody>\n",
       "</table>\n",
       "</div>"
      ],
      "text/plain": [
       "              Age     Na_to_K\n",
       "count  200.000000  200.000000\n",
       "mean    44.315000   16.084485\n",
       "std     16.544315    7.223956\n",
       "min     15.000000    6.269000\n",
       "25%     31.000000   10.445500\n",
       "50%     45.000000   13.936500\n",
       "75%     58.000000   19.380000\n",
       "max     74.000000   38.247000"
      ]
     },
     "execution_count": 9,
     "metadata": {},
     "output_type": "execute_result"
    }
   ],
   "source": [
    "df.describe ()"
   ]
  },
  {
   "cell_type": "code",
   "execution_count": 10,
   "id": "31c21164",
   "metadata": {},
   "outputs": [
    {
     "name": "stdout",
     "output_type": "stream",
     "text": [
      "Age skewness:  0.03030835703000607\n",
      "Na to K skewness:  1.039341186028881\n"
     ]
    },
    {
     "name": "stderr",
     "output_type": "stream",
     "text": [
      "/var/folders/m1/rzb2dybj47n4nyft9hh0fx200000gp/T/ipykernel_74764/2276863066.py:7: UserWarning: \n",
      "\n",
      "`distplot` is a deprecated function and will be removed in seaborn v0.14.0.\n",
      "\n",
      "Please adapt your code to use either `displot` (a figure-level function with\n",
      "similar flexibility) or `histplot` (an axes-level function for histograms).\n",
      "\n",
      "For a guide to updating your code to use the new functions, please see\n",
      "https://gist.github.com/mwaskom/de44147ed2974457ad6372750bbe5751\n",
      "\n",
      "  sns.distplot(df['Age']);\n"
     ]
    },
    {
     "data": {
      "image/png": "[encoded data removed]",
      "text/plain": [
       "<Figure size 640x480 with 1 Axes>"
      ]
     },
     "metadata": {},
     "output_type": "display_data"
    }
   ],
   "source": [
    "skewAge = df.Age.skew(axis = 0, skipna = True)\n",
    "print('Age skewness: ', skewAge)\n",
    "\n",
    "skewNatoK = df.Na_to_K.skew(axis = 0, skipna = True)\n",
    "print('Na to K skewness: ', skewNatoK)\n",
    "\n",
    "sns.distplot(df['Age']);\n"
   ]
  },
  {
   "cell_type": "code",
   "execution_count": 14,
   "id": "15b98b7f",
   "metadata": {},
   "outputs": [
    {
     "name": "stderr",
     "output_type": "stream",
     "text": [
      "/var/folders/m1/rzb2dybj47n4nyft9hh0fx200000gp/T/ipykernel_74764/2159397142.py:1: UserWarning: \n",
      "\n",
      "`distplot` is a deprecated function and will be removed in seaborn v0.14.0.\n",
      "\n",
      "Please adapt your code to use either `displot` (a figure-level function with\n",
      "similar flexibility) or `histplot` (an axes-level function for histograms).\n",
      "\n",
      "For a guide to updating your code to use the new functions, please see\n",
      "https://gist.github.com/mwaskom/de44147ed2974457ad6372750bbe5751\n",
      "\n",
      "  sns.distplot (df['Na_to_K']);\n"
     ]
    },
    {
     "data": {
      "image/png": "[encoded data removed]",
      "text/plain": [
       "<Figure size 640x480 with 1 Axes>"
      ]
     },
     "metadata": {},
     "output_type": "display_data"
    }
   ],
   "source": [
    "sns.distplot (df['Na_to_K']);"
   ]
  },
  {
   "cell_type": "code",
   "execution_count": 12,
   "id": "9f62953c",
   "metadata": {},
   "outputs": [
    {
     "name": "stderr",
     "output_type": "stream",
     "text": [
      "/var/folders/m1/rzb2dybj47n4nyft9hh0fx200000gp/T/ipykernel_74764/1459845261.py:4: FutureWarning: \n",
      "\n",
      "Passing `palette` without assigning `hue` is deprecated and will be removed in v0.14.0. Assign the `y` variable to `hue` and set `legend=False` for the same effect.\n",
      "\n",
      "  sns.countplot(y=\"Drug\", data=df, palette=\"pastel\")\n"
     ]
    },
    {
     "data": {
      "image/png": "[encoded data removed]",
      "text/plain": [
       "<Figure size 640x480 with 1 Axes>"
      ]
     },
     "metadata": {},
     "output_type": "display_data"
    }
   ],
   "source": [
    "# Drug Type Distribution \n",
    "\n",
    "sns.set_theme (style=\"whitegrid\")\n",
    "sns.countplot(y=\"Drug\", data=df, palette=\"pastel\")\n",
    "plt.ylabel ('Drug Type')\n",
    "plt.xlabel ('Total Count')\n",
    "plt.show()\n"
   ]
  },
  {
   "cell_type": "code",
   "execution_count": 15,
   "id": "6ebaebbf",
   "metadata": {},
   "outputs": [
    {
     "name": "stderr",
     "output_type": "stream",
     "text": [
      "/var/folders/m1/rzb2dybj47n4nyft9hh0fx200000gp/T/ipykernel_74764/2203214212.py:4: FutureWarning: \n",
      "\n",
      "Passing `palette` without assigning `hue` is deprecated and will be removed in v0.14.0. Assign the `x` variable to `hue` and set `legend=False` for the same effect.\n",
      "\n",
      "  sns.countplot(x=\"Sex\", data=df, palette=\"flare\")\n"
     ]
    },
    {
     "data": {
      "image/png": "[encoded data removed]",
      "text/plain": [
       "<Figure size 640x480 with 1 Axes>"
      ]
     },
     "metadata": {},
     "output_type": "display_data"
    }
   ],
   "source": [
    "# Gender Distribution\n",
    "\n",
    "sns.set_theme(style=\"whitegrid\")\n",
    "sns.countplot(x=\"Sex\", data=df, palette=\"flare\")\n",
    "plt.xlabel('Gender')\n",
    "plt.ylabel('Total count')\n",
    "plt.show()\n"
   ]
  },
  {
   "cell_type": "code",
   "execution_count": 16,
   "id": "3929a74e",
   "metadata": {},
   "outputs": [
    {
     "name": "stderr",
     "output_type": "stream",
     "text": [
      "/var/folders/m1/rzb2dybj47n4nyft9hh0fx200000gp/T/ipykernel_74764/3273797512.py:4: FutureWarning: \n",
      "\n",
      "Passing `palette` without assigning `hue` is deprecated and will be removed in v0.14.0. Assign the `y` variable to `hue` and set `legend=False` for the same effect.\n",
      "\n",
      "  sns.countplot (y=\"BP\", data=df, palette =\"crest\")\n"
     ]
    },
    {
     "data": {
      "image/png": "[encoded data removed]",
      "text/plain": [
       "<Figure size 640x480 with 1 Axes>"
      ]
     },
     "metadata": {},
     "output_type": "display_data"
    }
   ],
   "source": [
    "# Blood Pressure Distribution\n",
    "\n",
    "sns.set_theme (style=\"whitegrid\")\n",
    "sns.countplot (y=\"BP\", data=df, palette =\"crest\")\n",
    "plt.ylabel ('Blood pressure')\n",
    "plt.xlabel ('Total count')\n",
    "plt.show()"
   ]
  },
  {
   "cell_type": "code",
   "execution_count": 17,
   "id": "2187e757",
   "metadata": {},
   "outputs": [
    {
     "name": "stderr",
     "output_type": "stream",
     "text": [
      "/var/folders/m1/rzb2dybj47n4nyft9hh0fx200000gp/T/ipykernel_74764/1371603609.py:4: FutureWarning: \n",
      "\n",
      "Passing `palette` without assigning `hue` is deprecated and will be removed in v0.14.0. Assign the `x` variable to `hue` and set `legend=False` for the same effect.\n",
      "\n",
      "  sns.countplot (x=\"Cholesterol\", data=df, palette= \"rocket\")\n"
     ]
    },
    {
     "data": {
      "image/png": "[encoded data removed]",
      "text/plain": [
       "<Figure size 640x480 with 1 Axes>"
      ]
     },
     "metadata": {},
     "output_type": "display_data"
    }
   ],
   "source": [
    "# Cholestrol Distribution\n",
    "\n",
    "sns.set_theme (style = \"whitegrid\")\n",
    "sns.countplot (x=\"Cholesterol\", data=df, palette= \"rocket\")\n",
    "plt.xlabel ('Cholesterol')\n",
    "plt.ylabel ('Total Count')\n",
    "plt.show ()"
   ]
  },
  {
   "cell_type": "code",
   "execution_count": 18,
   "id": "7c9fd500",
   "metadata": {},
   "outputs": [
    {
     "data": {
      "image/png": "[encoded data removed]",
      "text/plain": [
       "<Figure size 800x400 with 1 Axes>"
      ]
     },
     "metadata": {},
     "output_type": "display_data"
    }
   ],
   "source": [
    "# Gender Distribution based on Drug Type\n",
    "\n",
    "pd.crosstab (df.Sex, df.Drug).plot(kind=\"bar\", figsize =(8,4), color=['#7b6faf','#b7cbb1','#d28c8c', '#4c3a57','#ff6666'])\n",
    "plt.title ('Gender Distribution based on Drug Type')\n",
    "plt.xlabel ('Gender')\n",
    "plt.xticks(rotation=0)\n",
    "\n",
    "plt.ylabel ('Frequency')\n",
    "\n",
    "plt.show()"
   ]
  },
  {
   "cell_type": "code",
   "execution_count": 19,
   "id": "77589ac4",
   "metadata": {},
   "outputs": [
    {
     "data": {
      "image/png": "[encoded data removed]",
      "text/plain": [
       "<Figure size 800x400 with 1 Axes>"
      ]
     },
     "metadata": {},
     "output_type": "display_data"
    }
   ],
   "source": [
    "# Blood Pressure Distribution based on Cholestrol\n",
    "pd.crosstab(df.BP,df.Cholesterol).plot(kind=\"bar\",figsize=(8,4),color=['#5990a4','#a8cad3'])\n",
    "\n",
    "plt.title ('Blood Pressure Distribution based on Cholestrol')\n",
    "plt.xlabel ('Blood Pressure')\n",
    "plt.xticks(rotation=0)\n",
    "\n",
    "plt.ylabel ('Frequency')  \n",
    "plt.show()                      "
   ]
  },
  {
   "cell_type": "code",
   "execution_count": 20,
   "id": "79f69a66",
   "metadata": {},
   "outputs": [
    {
     "data": {
      "image/png": "[encoded data removed]",
      "text/plain": [
       "<Figure size 640x480 with 1 Axes>"
      ]
     },
     "metadata": {},
     "output_type": "display_data"
    }
   ],
   "source": [
    "# Sodium to Potassium Distribution based on Gender + Age\n",
    "\n",
    "plt.scatter (x=df.Age [df.Sex=='M'], y=df.Na_to_K [(df.Sex=='M')], c=\"lightblue\")\n",
    "plt.scatter (x=df.Age [df.Sex=='F'], y=df.Na_to_K [(df.Sex=='F')], c=\"pink\")\n",
    "plt.legend (['Male','Female'])\n",
    "plt.xlabel (\"Age\")\n",
    "plt.ylabel (\"Na to K\")\n",
    "plt.show()"
   ]
  },
  {
   "cell_type": "code",
   "execution_count": 8,
   "id": "47d6b387",
   "metadata": {},
   "outputs": [],
   "source": [
    "df = pd.read_csv ('drug200.csv')\n",
    "\n",
    "bin_age = [0, 19, 29, 39, 49, 59, 69, 80]\n",
    "category_age = ['<20s', '20s', '30s', '40s', '50s', '60s', '>60s']\n",
    "\n",
    "df['Age_binned'] = pd.cut(df['Age'], bins=bin_age, labels=category_age)\n",
    "df = df.drop(['Age'], axis=1)"
   ]
  },
  {
   "cell_type": "code",
   "execution_count": 9,
   "id": "148c85b5",
   "metadata": {},
   "outputs": [],
   "source": [
    "bin_NatoK = [0, 9, 19, 29, 50]\n",
    "category_NatoK = ['<10', '10-20', '20-30', '>30']\n",
    "df['Na_to_K_binned'] = pd.cut(df['Na_to_K'], bins=bin_NatoK, labels=category_NatoK)\n",
    "df = df.drop(['Na_to_K'], axis = 1)\n"
   ]
  },
  {
   "cell_type": "code",
   "execution_count": 11,
   "id": "da76daa2",
   "metadata": {},
   "outputs": [],
   "source": [
    "X = df.drop([\"Drug\"], axis=1)\n",
    "y = df[\"Drug\"]\n",
    "\n",
    "X_train, X_test, y_train, y_test = train_test_split(X, y, test_size = 0.3, random_state = 0)\n"
   ]
  },
  {
   "cell_type": "code",
   "execution_count": 16,
   "id": "d3ea7040",
   "metadata": {},
   "outputs": [
    {
     "data": {
      "text/html": [
       "<div>\n",
       "<style scoped>\n",
       "    .dataframe tbody tr th:only-of-type {\n",
       "        vertical-align: middle;\n",
       "    }\n",
       "\n",
       "    .dataframe tbody tr th {\n",
       "        vertical-align: top;\n",
       "    }\n",
       "\n",
       "    .dataframe thead th {\n",
       "        text-align: right;\n",
       "    }\n",
       "</style>\n",
       "<table border=\"1\" class=\"dataframe\">\n",
       "  <thead>\n",
       "    <tr style=\"text-align: right;\">\n",
       "      <th></th>\n",
       "      <th>Sex_F</th>\n",
       "      <th>Sex_M</th>\n",
       "      <th>BP_HIGH</th>\n",
       "      <th>BP_LOW</th>\n",
       "      <th>BP_NORMAL</th>\n",
       "      <th>Cholesterol_HIGH</th>\n",
       "      <th>Cholesterol_NORMAL</th>\n",
       "      <th>Age_binned_&lt;20s</th>\n",
       "      <th>Age_binned_20s</th>\n",
       "      <th>Age_binned_30s</th>\n",
       "      <th>Age_binned_40s</th>\n",
       "      <th>Age_binned_50s</th>\n",
       "      <th>Age_binned_60s</th>\n",
       "      <th>Age_binned_&gt;60s</th>\n",
       "      <th>Na_to_K_binned_&lt;10</th>\n",
       "      <th>Na_to_K_binned_10-20</th>\n",
       "      <th>Na_to_K_binned_20-30</th>\n",
       "      <th>Na_to_K_binned_&gt;30</th>\n",
       "    </tr>\n",
       "  </thead>\n",
       "  <tbody>\n",
       "    <tr>\n",
       "      <th>131</th>\n",
       "      <td>False</td>\n",
       "      <td>True</td>\n",
       "      <td>False</td>\n",
       "      <td>True</td>\n",
       "      <td>False</td>\n",
       "      <td>False</td>\n",
       "      <td>True</td>\n",
       "      <td>False</td>\n",
       "      <td>False</td>\n",
       "      <td>False</td>\n",
       "      <td>False</td>\n",
       "      <td>True</td>\n",
       "      <td>False</td>\n",
       "      <td>False</td>\n",
       "      <td>False</td>\n",
       "      <td>False</td>\n",
       "      <td>False</td>\n",
       "      <td>True</td>\n",
       "    </tr>\n",
       "    <tr>\n",
       "      <th>96</th>\n",
       "      <td>True</td>\n",
       "      <td>False</td>\n",
       "      <td>False</td>\n",
       "      <td>True</td>\n",
       "      <td>False</td>\n",
       "      <td>True</td>\n",
       "      <td>False</td>\n",
       "      <td>False</td>\n",
       "      <td>False</td>\n",
       "      <td>False</td>\n",
       "      <td>False</td>\n",
       "      <td>True</td>\n",
       "      <td>False</td>\n",
       "      <td>False</td>\n",
       "      <td>False</td>\n",
       "      <td>False</td>\n",
       "      <td>False</td>\n",
       "      <td>True</td>\n",
       "    </tr>\n",
       "    <tr>\n",
       "      <th>181</th>\n",
       "      <td>True</td>\n",
       "      <td>False</td>\n",
       "      <td>False</td>\n",
       "      <td>False</td>\n",
       "      <td>True</td>\n",
       "      <td>True</td>\n",
       "      <td>False</td>\n",
       "      <td>False</td>\n",
       "      <td>False</td>\n",
       "      <td>False</td>\n",
       "      <td>False</td>\n",
       "      <td>True</td>\n",
       "      <td>False</td>\n",
       "      <td>False</td>\n",
       "      <td>False</td>\n",
       "      <td>True</td>\n",
       "      <td>False</td>\n",
       "      <td>False</td>\n",
       "    </tr>\n",
       "    <tr>\n",
       "      <th>19</th>\n",
       "      <td>True</td>\n",
       "      <td>False</td>\n",
       "      <td>True</td>\n",
       "      <td>False</td>\n",
       "      <td>False</td>\n",
       "      <td>False</td>\n",
       "      <td>True</td>\n",
       "      <td>False</td>\n",
       "      <td>False</td>\n",
       "      <td>True</td>\n",
       "      <td>False</td>\n",
       "      <td>False</td>\n",
       "      <td>False</td>\n",
       "      <td>False</td>\n",
       "      <td>False</td>\n",
       "      <td>False</td>\n",
       "      <td>True</td>\n",
       "      <td>False</td>\n",
       "    </tr>\n",
       "    <tr>\n",
       "      <th>153</th>\n",
       "      <td>True</td>\n",
       "      <td>False</td>\n",
       "      <td>False</td>\n",
       "      <td>True</td>\n",
       "      <td>False</td>\n",
       "      <td>False</td>\n",
       "      <td>True</td>\n",
       "      <td>False</td>\n",
       "      <td>False</td>\n",
       "      <td>False</td>\n",
       "      <td>False</td>\n",
       "      <td>False</td>\n",
       "      <td>False</td>\n",
       "      <td>True</td>\n",
       "      <td>False</td>\n",
       "      <td>True</td>\n",
       "      <td>False</td>\n",
       "      <td>False</td>\n",
       "    </tr>\n",
       "  </tbody>\n",
       "</table>\n",
       "</div>"
      ],
      "text/plain": [
       "     Sex_F  Sex_M  BP_HIGH  BP_LOW  BP_NORMAL  Cholesterol_HIGH  \\\n",
       "131  False   True    False    True      False             False   \n",
       "96    True  False    False    True      False              True   \n",
       "181   True  False    False   False       True              True   \n",
       "19    True  False     True   False      False             False   \n",
       "153   True  False    False    True      False             False   \n",
       "\n",
       "     Cholesterol_NORMAL  Age_binned_<20s  Age_binned_20s  Age_binned_30s  \\\n",
       "131                True            False           False           False   \n",
       "96                False            False           False           False   \n",
       "181               False            False           False           False   \n",
       "19                 True            False           False            True   \n",
       "153                True            False           False           False   \n",
       "\n",
       "     Age_binned_40s  Age_binned_50s  Age_binned_60s  Age_binned_>60s  \\\n",
       "131           False            True           False            False   \n",
       "96            False            True           False            False   \n",
       "181           False            True           False            False   \n",
       "19            False           False           False            False   \n",
       "153           False           False           False             True   \n",
       "\n",
       "     Na_to_K_binned_<10  Na_to_K_binned_10-20  Na_to_K_binned_20-30  \\\n",
       "131               False                 False                 False   \n",
       "96                False                 False                 False   \n",
       "181               False                  True                 False   \n",
       "19                False                 False                  True   \n",
       "153               False                  True                 False   \n",
       "\n",
       "     Na_to_K_binned_>30  \n",
       "131                True  \n",
       "96                 True  \n",
       "181               False  \n",
       "19                False  \n",
       "153               False  "
      ]
     },
     "execution_count": 16,
     "metadata": {},
     "output_type": "execute_result"
    }
   ],
   "source": [
    "X_train = pd.get_dummies(X_train)\n",
    "X_test = pd.get_dummies(X_test)\n",
    "\n",
    "X_train.head()\n"
   ]
  },
  {
   "cell_type": "code",
   "execution_count": 15,
   "id": "66ba7d53",
   "metadata": {},
   "outputs": [
    {
     "data": {
      "text/html": [
       "<div>\n",
       "<style scoped>\n",
       "    .dataframe tbody tr th:only-of-type {\n",
       "        vertical-align: middle;\n",
       "    }\n",
       "\n",
       "    .dataframe tbody tr th {\n",
       "        vertical-align: top;\n",
       "    }\n",
       "\n",
       "    .dataframe thead th {\n",
       "        text-align: right;\n",
       "    }\n",
       "</style>\n",
       "<table border=\"1\" class=\"dataframe\">\n",
       "  <thead>\n",
       "    <tr style=\"text-align: right;\">\n",
       "      <th></th>\n",
       "      <th>Sex_F</th>\n",
       "      <th>Sex_M</th>\n",
       "      <th>BP_HIGH</th>\n",
       "      <th>BP_LOW</th>\n",
       "      <th>BP_NORMAL</th>\n",
       "      <th>Cholesterol_HIGH</th>\n",
       "      <th>Cholesterol_NORMAL</th>\n",
       "      <th>Age_binned_&lt;20s</th>\n",
       "      <th>Age_binned_20s</th>\n",
       "      <th>Age_binned_30s</th>\n",
       "      <th>Age_binned_40s</th>\n",
       "      <th>Age_binned_50s</th>\n",
       "      <th>Age_binned_60s</th>\n",
       "      <th>Age_binned_&gt;60s</th>\n",
       "      <th>Na_to_K_binned_&lt;10</th>\n",
       "      <th>Na_to_K_binned_10-20</th>\n",
       "      <th>Na_to_K_binned_20-30</th>\n",
       "      <th>Na_to_K_binned_&gt;30</th>\n",
       "    </tr>\n",
       "  </thead>\n",
       "  <tbody>\n",
       "    <tr>\n",
       "      <th>18</th>\n",
       "      <td>False</td>\n",
       "      <td>True</td>\n",
       "      <td>False</td>\n",
       "      <td>True</td>\n",
       "      <td>False</td>\n",
       "      <td>True</td>\n",
       "      <td>False</td>\n",
       "      <td>False</td>\n",
       "      <td>True</td>\n",
       "      <td>False</td>\n",
       "      <td>False</td>\n",
       "      <td>False</td>\n",
       "      <td>False</td>\n",
       "      <td>False</td>\n",
       "      <td>True</td>\n",
       "      <td>False</td>\n",
       "      <td>False</td>\n",
       "      <td>False</td>\n",
       "    </tr>\n",
       "    <tr>\n",
       "      <th>170</th>\n",
       "      <td>True</td>\n",
       "      <td>False</td>\n",
       "      <td>False</td>\n",
       "      <td>False</td>\n",
       "      <td>True</td>\n",
       "      <td>True</td>\n",
       "      <td>False</td>\n",
       "      <td>False</td>\n",
       "      <td>True</td>\n",
       "      <td>False</td>\n",
       "      <td>False</td>\n",
       "      <td>False</td>\n",
       "      <td>False</td>\n",
       "      <td>False</td>\n",
       "      <td>False</td>\n",
       "      <td>True</td>\n",
       "      <td>False</td>\n",
       "      <td>False</td>\n",
       "    </tr>\n",
       "    <tr>\n",
       "      <th>107</th>\n",
       "      <td>False</td>\n",
       "      <td>True</td>\n",
       "      <td>False</td>\n",
       "      <td>True</td>\n",
       "      <td>False</td>\n",
       "      <td>True</td>\n",
       "      <td>False</td>\n",
       "      <td>False</td>\n",
       "      <td>False</td>\n",
       "      <td>False</td>\n",
       "      <td>True</td>\n",
       "      <td>False</td>\n",
       "      <td>False</td>\n",
       "      <td>False</td>\n",
       "      <td>False</td>\n",
       "      <td>False</td>\n",
       "      <td>True</td>\n",
       "      <td>False</td>\n",
       "    </tr>\n",
       "    <tr>\n",
       "      <th>98</th>\n",
       "      <td>False</td>\n",
       "      <td>True</td>\n",
       "      <td>True</td>\n",
       "      <td>False</td>\n",
       "      <td>False</td>\n",
       "      <td>False</td>\n",
       "      <td>True</td>\n",
       "      <td>False</td>\n",
       "      <td>True</td>\n",
       "      <td>False</td>\n",
       "      <td>False</td>\n",
       "      <td>False</td>\n",
       "      <td>False</td>\n",
       "      <td>False</td>\n",
       "      <td>False</td>\n",
       "      <td>False</td>\n",
       "      <td>False</td>\n",
       "      <td>True</td>\n",
       "    </tr>\n",
       "    <tr>\n",
       "      <th>177</th>\n",
       "      <td>False</td>\n",
       "      <td>True</td>\n",
       "      <td>False</td>\n",
       "      <td>False</td>\n",
       "      <td>True</td>\n",
       "      <td>True</td>\n",
       "      <td>False</td>\n",
       "      <td>False</td>\n",
       "      <td>True</td>\n",
       "      <td>False</td>\n",
       "      <td>False</td>\n",
       "      <td>False</td>\n",
       "      <td>False</td>\n",
       "      <td>False</td>\n",
       "      <td>False</td>\n",
       "      <td>False</td>\n",
       "      <td>True</td>\n",
       "      <td>False</td>\n",
       "    </tr>\n",
       "  </tbody>\n",
       "</table>\n",
       "</div>"
      ],
      "text/plain": [
       "     Sex_F  Sex_M  BP_HIGH  BP_LOW  BP_NORMAL  Cholesterol_HIGH  \\\n",
       "18   False   True    False    True      False              True   \n",
       "170   True  False    False   False       True              True   \n",
       "107  False   True    False    True      False              True   \n",
       "98   False   True     True   False      False             False   \n",
       "177  False   True    False   False       True              True   \n",
       "\n",
       "     Cholesterol_NORMAL  Age_binned_<20s  Age_binned_20s  Age_binned_30s  \\\n",
       "18                False            False            True           False   \n",
       "170               False            False            True           False   \n",
       "107               False            False           False           False   \n",
       "98                 True            False            True           False   \n",
       "177               False            False            True           False   \n",
       "\n",
       "     Age_binned_40s  Age_binned_50s  Age_binned_60s  Age_binned_>60s  \\\n",
       "18            False           False           False            False   \n",
       "170           False           False           False            False   \n",
       "107            True           False           False            False   \n",
       "98            False           False           False            False   \n",
       "177           False           False           False            False   \n",
       "\n",
       "     Na_to_K_binned_<10  Na_to_K_binned_10-20  Na_to_K_binned_20-30  \\\n",
       "18                 True                 False                 False   \n",
       "170               False                  True                 False   \n",
       "107               False                 False                  True   \n",
       "98                False                 False                 False   \n",
       "177               False                 False                  True   \n",
       "\n",
       "     Na_to_K_binned_>30  \n",
       "18                False  \n",
       "170               False  \n",
       "107               False  \n",
       "98                 True  \n",
       "177               False  "
      ]
     },
     "execution_count": 15,
     "metadata": {},
     "output_type": "execute_result"
    }
   ],
   "source": [
    "X_test.head()\n"
   ]
  },
  {
   "cell_type": "code",
   "execution_count": 21,
   "id": "89a5f1e5",
   "metadata": {},
   "outputs": [],
   "source": [
    "from sklearn.preprocessing import LabelEncoder\n",
    "\n",
    "le = LabelEncoder()\n",
    "for col in X_train.columns:\n",
    "    if X_train[col].dtype == 'object' or X_train[col].dtype == 'bool':\n",
    "        X_train[col] = le.fit_transform(X_train[col].astype(str))\n"
   ]
  },
  {
   "cell_type": "code",
   "execution_count": 24,
   "id": "11b6ba03",
   "metadata": {},
   "outputs": [
    {
     "name": "stderr",
     "output_type": "stream",
     "text": [
      "/var/folders/m1/rzb2dybj47n4nyft9hh0fx200000gp/T/ipykernel_75298/2880599096.py:5: FutureWarning: \n",
      "\n",
      "Passing `palette` without assigning `hue` is deprecated and will be removed in v0.14.0. Assign the `y` variable to `hue` and set `legend=False` for the same effect.\n",
      "\n",
      "  sns.countplot(y=y_train, data=df, palette=\"mako_r\")\n"
     ]
    },
    {
     "data": {
      "image/png": "[encoded data removed]",
      "text/plain": [
       "<Figure size 640x480 with 1 Axes>"
      ]
     },
     "metadata": {},
     "output_type": "display_data"
    }
   ],
   "source": [
    "from imblearn.over_sampling import SMOTE\n",
    "X_train, y_train = SMOTE().fit_resample(X_train, y_train)\n",
    "\n",
    "sns.set_theme(style=\"darkgrid\")\n",
    "sns.countplot(y=y_train, data=df, palette=\"mako_r\")\n",
    "plt.ylabel('Drug Type')\n",
    "plt.xlabel('Total')\n",
    "plt.show()\n"
   ]
  },
  {
   "cell_type": "code",
   "execution_count": 35,
   "id": "eb0a64e3",
   "metadata": {},
   "outputs": [
    {
     "name": "stdout",
     "output_type": "stream",
     "text": [
      "              precision    recall  f1-score   support\n",
      "\n",
      "       DrugY       1.00      0.70      0.82        30\n",
      "       drugA       0.71      1.00      0.83         5\n",
      "       drugB       0.75      1.00      0.86         3\n",
      "       drugC       0.67      1.00      0.80         4\n",
      "       drugX       0.82      1.00      0.90        18\n",
      "\n",
      "    accuracy                           0.85        60\n",
      "   macro avg       0.79      0.94      0.84        60\n",
      "weighted avg       0.89      0.85      0.85        60\n",
      "\n",
      "[[21  2  1  2  4]\n",
      " [ 0  5  0  0  0]\n",
      " [ 0  0  3  0  0]\n",
      " [ 0  0  0  4  0]\n",
      " [ 0  0  0  0 18]]\n",
      "Logistic Regression accuracy is: 85.00%\n"
     ]
    },
    {
     "data": {
      "text/plain": [
       "<Figure size 640x480 with 0 Axes>"
      ]
     },
     "metadata": {},
     "output_type": "display_data"
    }
   ],
   "source": [
    "LRclassifier = LogisticRegression(solver='liblinear', max_iter=5000)\n",
    "LRclassifier.fit(X_train, y_train)\n",
    "\n",
    "y_pred = LRclassifier.predict(X_test)\n",
    "\n",
    "print(classification_report(y_test, y_pred))\n",
    "print(confusion_matrix(y_test, y_pred))\n",
    "plt.savefig(\"LRconfusion_matrix.png\")\n",
    "\n",
    "from sklearn.metrics import accuracy_score\n",
    "LRAcc = accuracy_score(y_pred,y_test)\n",
    "print('Logistic Regression accuracy is: {:.2f}%'.format(LRAcc*100))\n"
   ]
  },
  {
   "cell_type": "code",
   "execution_count": 36,
   "id": "3ad70ed0",
   "metadata": {},
   "outputs": [
    {
     "name": "stdout",
     "output_type": "stream",
     "text": [
      "              precision    recall  f1-score   support\n",
      "\n",
      "       DrugY       0.89      0.57      0.69        30\n",
      "       drugA       0.56      1.00      0.71         5\n",
      "       drugB       0.60      1.00      0.75         3\n",
      "       drugC       0.57      1.00      0.73         4\n",
      "       drugX       0.80      0.89      0.84        18\n",
      "\n",
      "    accuracy                           0.75        60\n",
      "   macro avg       0.68      0.89      0.75        60\n",
      "weighted avg       0.80      0.75      0.75        60\n",
      "\n",
      "[[17  4  2  3  4]\n",
      " [ 0  5  0  0  0]\n",
      " [ 0  0  3  0  0]\n",
      " [ 0  0  0  4  0]\n",
      " [ 2  0  0  0 16]]\n",
      "Decision Tree accuracy is: 75.00%\n"
     ]
    },
    {
     "data": {
      "text/plain": [
       "<Figure size 640x480 with 0 Axes>"
      ]
     },
     "metadata": {},
     "output_type": "display_data"
    }
   ],
   "source": [
    "DTclassifier = DecisionTreeClassifier(max_leaf_nodes=20)\n",
    "DTclassifier.fit(X_train, y_train)\n",
    "\n",
    "y_pred = DTclassifier.predict(X_test)\n",
    "\n",
    "print(classification_report(y_test, y_pred))\n",
    "print(confusion_matrix(y_test, y_pred))\n",
    "\n",
    "plt.savefig(\"DTconfusion_matrix.png\")\n",
    "DTAcc = accuracy_score(y_pred,y_test)\n",
    "print('Decision Tree accuracy is: {:.2f}%'.format(DTAcc*100))\n"
   ]
  },
  {
   "cell_type": "code",
   "execution_count": 37,
   "id": "0fd3c9c6",
   "metadata": {},
   "outputs": [
    {
     "name": "stdout",
     "output_type": "stream",
     "text": [
      "              precision    recall  f1-score   support\n",
      "\n",
      "       DrugY       1.00      0.67      0.80        30\n",
      "       drugA       0.62      1.00      0.77         5\n",
      "       drugB       0.75      1.00      0.86         3\n",
      "       drugC       0.67      1.00      0.80         4\n",
      "       drugX       0.82      1.00      0.90        18\n",
      "\n",
      "    accuracy                           0.83        60\n",
      "   macro avg       0.77      0.93      0.83        60\n",
      "weighted avg       0.88      0.83      0.83        60\n",
      "\n",
      "[[20  3  1  2  4]\n",
      " [ 0  5  0  0  0]\n",
      " [ 0  0  3  0  0]\n",
      " [ 0  0  0  4  0]\n",
      " [ 0  0  0  0 18]]\n",
      "Random Forest accuracy is: 83.33%\n"
     ]
    },
    {
     "data": {
      "text/plain": [
       "<Figure size 640x480 with 0 Axes>"
      ]
     },
     "metadata": {},
     "output_type": "display_data"
    }
   ],
   "source": [
    "RFclassifier = RandomForestClassifier(max_leaf_nodes=30)\n",
    "RFclassifier.fit(X_train, y_train)\n",
    "\n",
    "y_pred = RFclassifier.predict(X_test)\n",
    "\n",
    "print(classification_report(y_test, y_pred))\n",
    "print(confusion_matrix(y_test, y_pred))\n",
    "plt.savefig(\"RFconfusion_matrix.png\")\n",
    "from sklearn.metrics import accuracy_score\n",
    "RFAcc = accuracy_score(y_pred,y_test)\n",
    "print('Random Forest accuracy is: {:.2f}%'.format(RFAcc*100))"
   ]
  },
  {
   "cell_type": "code",
   "execution_count": 28,
   "id": "71390a68",
   "metadata": {},
   "outputs": [
    {
     "data": {
      "text/html": [
       "<div>\n",
       "<style scoped>\n",
       "    .dataframe tbody tr th:only-of-type {\n",
       "        vertical-align: middle;\n",
       "    }\n",
       "\n",
       "    .dataframe tbody tr th {\n",
       "        vertical-align: top;\n",
       "    }\n",
       "\n",
       "    .dataframe thead th {\n",
       "        text-align: right;\n",
       "    }\n",
       "</style>\n",
       "<table border=\"1\" class=\"dataframe\">\n",
       "  <thead>\n",
       "    <tr style=\"text-align: right;\">\n",
       "      <th></th>\n",
       "      <th>Model</th>\n",
       "      <th>Accuracy</th>\n",
       "    </tr>\n",
       "  </thead>\n",
       "  <tbody>\n",
       "    <tr>\n",
       "      <th>0</th>\n",
       "      <td>Logistic Regression</td>\n",
       "      <td>85.000000</td>\n",
       "    </tr>\n",
       "    <tr>\n",
       "      <th>2</th>\n",
       "      <td>Random Forest</td>\n",
       "      <td>83.333333</td>\n",
       "    </tr>\n",
       "    <tr>\n",
       "      <th>1</th>\n",
       "      <td>Decision Tree</td>\n",
       "      <td>75.000000</td>\n",
       "    </tr>\n",
       "  </tbody>\n",
       "</table>\n",
       "</div>"
      ],
      "text/plain": [
       "                 Model   Accuracy\n",
       "0  Logistic Regression  85.000000\n",
       "2        Random Forest  83.333333\n",
       "1        Decision Tree  75.000000"
      ]
     },
     "execution_count": 28,
     "metadata": {},
     "output_type": "execute_result"
    }
   ],
   "source": [
    "compare = pd.DataFrame({'Model': ['Logistic Regression', 'Decision Tree', 'Random Forest'],\n",
    "                        'Accuracy' : [LRAcc*100, DTAcc*100, RFAcc*100]})\n",
    "compare.sort_values (by='Accuracy', ascending = False)"
   ]
  },
  {
   "cell_type": "code",
   "execution_count": 30,
   "id": "7d255c0e",
   "metadata": {},
   "outputs": [
    {
     "data": {
      "text/plain": [
       "['RFclassifier.pkl']"
      ]
     },
     "execution_count": 30,
     "metadata": {},
     "output_type": "execute_result"
    }
   ],
   "source": [
    "import joblib\n",
    "\n",
    "joblib.dump(LRclassifier, \"LRclassifier.pkl\")\n",
    "joblib.dump(DTclassifier, \"DTclassifier.pkl\")\n",
    "joblib.dump(RFclassifier, \"RFclassifier.pkl\")\n"
   ]
  },
  {
   "cell_type": "code",
   "execution_count": 39,
   "id": "5359bd3a",
   "metadata": {},
   "outputs": [
    {
     "name": "stderr",
     "output_type": "stream",
     "text": [
      "2025-06-12 23:58:37.769 Thread 'MainThread': missing ScriptRunContext! This warning can be ignored when running in bare mode.\n",
      "2025-06-12 23:58:37.775 Thread 'MainThread': missing ScriptRunContext! This warning can be ignored when running in bare mode.\n",
      "2025-06-12 23:58:37.777 Thread 'MainThread': missing ScriptRunContext! This warning can be ignored when running in bare mode.\n",
      "2025-06-12 23:58:37.779 Thread 'MainThread': missing ScriptRunContext! This warning can be ignored when running in bare mode.\n",
      "2025-06-12 23:58:37.780 Thread 'MainThread': missing ScriptRunContext! This warning can be ignored when running in bare mode.\n",
      "2025-06-12 23:58:37.783 Thread 'MainThread': missing ScriptRunContext! This warning can be ignored when running in bare mode.\n",
      "2025-06-12 23:58:37.797 Thread 'MainThread': missing ScriptRunContext! This warning can be ignored when running in bare mode.\n",
      "2025-06-12 23:58:37.811 Thread 'MainThread': missing ScriptRunContext! This warning can be ignored when running in bare mode.\n",
      "2025-06-12 23:58:37.814 Thread 'MainThread': missing ScriptRunContext! This warning can be ignored when running in bare mode.\n",
      "2025-06-12 23:58:37.816 Thread 'MainThread': missing ScriptRunContext! This warning can be ignored when running in bare mode.\n",
      "2025-06-12 23:58:37.818 Thread 'MainThread': missing ScriptRunContext! This warning can be ignored when running in bare mode.\n",
      "2025-06-12 23:58:37.820 Thread 'MainThread': missing ScriptRunContext! This warning can be ignored when running in bare mode.\n",
      "2025-06-12 23:58:37.828 Thread 'MainThread': missing ScriptRunContext! This warning can be ignored when running in bare mode.\n",
      "2025-06-12 23:58:37.830 Thread 'MainThread': missing ScriptRunContext! This warning can be ignored when running in bare mode.\n",
      "2025-06-12 23:58:37.837 Thread 'MainThread': missing ScriptRunContext! This warning can be ignored when running in bare mode.\n",
      "2025-06-12 23:58:37.861 Thread 'MainThread': missing ScriptRunContext! This warning can be ignored when running in bare mode.\n",
      "2025-06-12 23:58:37.864 Thread 'MainThread': missing ScriptRunContext! This warning can be ignored when running in bare mode.\n",
      "2025-06-12 23:58:37.869 Thread 'MainThread': missing ScriptRunContext! This warning can be ignored when running in bare mode.\n",
      "2025-06-12 23:58:37.870 Thread 'MainThread': missing ScriptRunContext! This warning can be ignored when running in bare mode.\n",
      "2025-06-12 23:58:37.883 Thread 'MainThread': missing ScriptRunContext! This warning can be ignored when running in bare mode.\n",
      "2025-06-12 23:58:37.885 Thread 'MainThread': missing ScriptRunContext! This warning can be ignored when running in bare mode.\n",
      "2025-06-12 23:58:37.889 Thread 'MainThread': missing ScriptRunContext! This warning can be ignored when running in bare mode.\n",
      "2025-06-12 23:58:37.893 Thread 'MainThread': missing ScriptRunContext! This warning can be ignored when running in bare mode.\n",
      "2025-06-12 23:58:37.895 Thread 'MainThread': missing ScriptRunContext! This warning can be ignored when running in bare mode.\n",
      "2025-06-12 23:58:37.897 Thread 'MainThread': missing ScriptRunContext! This warning can be ignored when running in bare mode.\n",
      "2025-06-12 23:58:37.904 Thread 'MainThread': missing ScriptRunContext! This warning can be ignored when running in bare mode.\n",
      "2025-06-12 23:58:37.908 Thread 'MainThread': missing ScriptRunContext! This warning can be ignored when running in bare mode.\n",
      "2025-06-12 23:58:37.910 Thread 'MainThread': missing ScriptRunContext! This warning can be ignored when running in bare mode.\n",
      "2025-06-12 23:58:37.913 Thread 'MainThread': missing ScriptRunContext! This warning can be ignored when running in bare mode.\n",
      "2025-06-12 23:58:37.916 Thread 'MainThread': missing ScriptRunContext! This warning can be ignored when running in bare mode.\n",
      "2025-06-12 23:58:37.920 Thread 'MainThread': missing ScriptRunContext! This warning can be ignored when running in bare mode.\n",
      "2025-06-12 23:58:37.922 Thread 'MainThread': missing ScriptRunContext! This warning can be ignored when running in bare mode.\n",
      "2025-06-12 23:58:37.929 Thread 'MainThread': missing ScriptRunContext! This warning can be ignored when running in bare mode.\n",
      "2025-06-12 23:58:37.934 Thread 'MainThread': missing ScriptRunContext! This warning can be ignored when running in bare mode.\n",
      "2025-06-12 23:58:37.939 Thread 'MainThread': missing ScriptRunContext! This warning can be ignored when running in bare mode.\n",
      "2025-06-12 23:58:37.941 Thread 'MainThread': missing ScriptRunContext! This warning can be ignored when running in bare mode.\n",
      "2025-06-12 23:58:37.943 Thread 'MainThread': missing ScriptRunContext! This warning can be ignored when running in bare mode.\n",
      "2025-06-12 23:58:37.946 Thread 'MainThread': missing ScriptRunContext! This warning can be ignored when running in bare mode.\n",
      "2025-06-12 23:58:37.958 Thread 'MainThread': missing ScriptRunContext! This warning can be ignored when running in bare mode.\n",
      "2025-06-12 23:58:37.962 Thread 'MainThread': missing ScriptRunContext! This warning can be ignored when running in bare mode.\n",
      "2025-06-12 23:58:37.966 Thread 'MainThread': missing ScriptRunContext! This warning can be ignored when running in bare mode.\n",
      "2025-06-12 23:58:37.969 Thread 'MainThread': missing ScriptRunContext! This warning can be ignored when running in bare mode.\n",
      "2025-06-12 23:58:37.971 Thread 'MainThread': missing ScriptRunContext! This warning can be ignored when running in bare mode.\n",
      "2025-06-12 23:58:37.981 Thread 'MainThread': missing ScriptRunContext! This warning can be ignored when running in bare mode.\n",
      "2025-06-12 23:58:37.986 Thread 'MainThread': missing ScriptRunContext! This warning can be ignored when running in bare mode.\n",
      "2025-06-12 23:58:37.993 Thread 'MainThread': missing ScriptRunContext! This warning can be ignored when running in bare mode.\n",
      "2025-06-12 23:58:37.997 Thread 'MainThread': missing ScriptRunContext! This warning can be ignored when running in bare mode.\n",
      "2025-06-12 23:58:38.000 Thread 'MainThread': missing ScriptRunContext! This warning can be ignored when running in bare mode.\n",
      "2025-06-12 23:58:38.007 Thread 'MainThread': missing ScriptRunContext! This warning can be ignored when running in bare mode.\n"
     ]
    },
    {
     "data": {
      "text/plain": [
       "DeltaGenerator()"
      ]
     },
     "execution_count": 39,
     "metadata": {},
     "output_type": "execute_result"
    }
   ],
   "source": [
    "import streamlit as st\n",
    "import joblib\n",
    "import pandas as pd\n",
    "import numpy as np\n",
    "\n",
    "\n",
    "logreg = joblib.load(\"LRclassifier.pkl\")\n",
    "dt = joblib.load(\"DTclassifier.pkl\")\n",
    "rf = joblib.load(\"RFclassifier.pkl\")\n",
    "\n",
    "# Title\n",
    "st.title(\"💊 Drug Recommendation Predictor\")\n",
    "\n",
    "# Sidebar for input\n",
    "st.sidebar.header(\"Patient Information\")\n",
    "\n",
    "age = st.sidebar.slider(\"Age\", 15, 75, 35)\n",
    "sex = st.sidebar.selectbox(\"Sex\", [\"Male\", \"Female\"])\n",
    "bp = st.sidebar.selectbox(\"Blood Pressure\", [\"LOW\", \"NORMAL\", \"HIGH\"])\n",
    "chol = st.sidebar.selectbox(\"Cholesterol\", [\"NORMAL\", \"HIGH\"])\n",
    "na_to_k = st.sidebar.slider(\"Sodium to Potassium Ratio\", 5.0, 40.0, 15.0)\n",
    "\n",
    "# Convert to DataFrame\n",
    "input_df = pd.DataFrame({\n",
    "    \"Age\": [age],\n",
    "    \"Sex\": [1 if sex == \"Male\" else 0],\n",
    "    \"BP\": [bp],\n",
    "    \"Cholesterol\": [chol],\n",
    "    \"Na_to_K\": [na_to_k]\n",
    "})\n",
    "\n",
    "bp_map = {\"LOW\": 0, \"NORMAL\": 1, \"HIGH\": 2}\n",
    "chol_map = {\"NORMAL\": 0, \"HIGH\": 1}\n",
    "input_df[\"BP\"] = input_df[\"BP\"].map(bp_map)\n",
    "input_df[\"Cholesterol\"] = input_df[\"Cholesterol\"].map(chol_map)\n",
    "\n",
    "# Prediction\n",
    "st.subheader(\"Select a model to predict the drug\")\n",
    "model_choice = st.radio(\"Model\", [\"Logistic Regression\", \"Decision Tree\", \"Random Forest\"])\n",
    "\n",
    "if st.button(\"Predict Drug\"):\n",
    "    if model_choice == \"Logistic Regression\":\n",
    "        prediction = logreg.predict(input_df)\n",
    "    elif model_choice == \"Decision Tree\":\n",
    "        prediction = dt.predict(input_df)\n",
    "    else:\n",
    "        prediction = rf.predict(input_df)\n",
    "\n",
    "    st.success(f\"Recommended Drug: **{prediction[0]}** 💊\")\n",
    "\n",
    "# Model Performance (static for now, unless you upload charts)\n",
    "st.subheader(\"📊 Model Accuracy Comparison\")\n",
    "st.markdown(\"\"\"\n",
    "- **Logistic Regression**: 85%\n",
    "- **Decision Tree**: 83.3%\n",
    "- **Random Forest**: 75%\n",
    "\"\"\")\n",
    "\n"
   ]
  },
  {
   "cell_type": "code",
   "execution_count": 41,
   "id": "5fabbfe0",
   "metadata": {},
   "outputs": [
    {
     "name": "stdout",
     "output_type": "stream",
     "text": [
      "Usage: streamlit run [OPTIONS] TARGET [ARGS]...\n",
      "Try 'streamlit run --help' for help.\n",
      "\n",
      "Error: Invalid value: File does not exist: app.py\n"
     ]
    }
   ],
   "source": [
    "!streamlit run app.py\n"
   ]
  },
  {
   "cell_type": "markdown",
   "id": "31613942",
   "metadata": {},
   "source": []
  }
 ],
 "metadata": {
  "kernelspec": {
   "display_name": "horizons25",
   "language": "python",
   "name": "python3"
  },
  "language_info": {
   "codemirror_mode": {
    "name": "ipython",
    "version": 3
   },
   "file_extension": ".py",
   "mimetype": "text/x-python",
   "name": "python",
   "nbconvert_exporter": "python",
   "pygments_lexer": "ipython3",
   "version": "3.12.9"
  }
 },
 "nbformat": 4,
 "nbformat_minor": 5
}
