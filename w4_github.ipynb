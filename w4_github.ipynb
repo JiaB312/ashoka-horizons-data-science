{
 "cells": [
  {
   "cell_type": "code",
   "execution_count": 4,
   "id": "b8687b65",
   "metadata": {},
   "outputs": [],
   "source": [
    "import pandas as pd\n",
    "import numpy as np\n",
    "import matplotlib.pyplot as plt\n",
    "import seaborn as sns\n",
    "\n",
    "from sklearn.datasets import load_breast_cancer\n",
    "from sklearn.model_selection import train_test_split, cross_val_score\n",
    "from sklearn.preprocessing import StandardScaler\n",
    "from sklearn.linear_model import LogisticRegression\n",
    "from sklearn.ensemble import RandomForestClassifier\n",
    "from sklearn.pipeline import Pipeline\n",
    "from sklearn.metrics import accuracy_score, confusion_matrix, classification_report"
   ]
  },
  {
   "cell_type": "code",
   "execution_count": 5,
   "id": "e2fa81d5",
   "metadata": {},
   "outputs": [],
   "source": [
    "data = load_breast_cancer ()"
   ]
  },
  {
   "cell_type": "code",
   "execution_count": 6,
   "id": "c20072ea",
   "metadata": {},
   "outputs": [],
   "source": [
    "X = pd.DataFrame (data.data, columns = data.feature_names)\n",
    "y = pd.Series (data.target)"
   ]
  },
  {
   "cell_type": "code",
   "execution_count": null,
   "id": "20cc2449",
   "metadata": {},
   "outputs": [
    {
     "name": "stdout",
     "output_type": "stream",
     "text": [
      "First 5 rows of features (X):\n",
      "   mean radius  mean texture  mean perimeter  mean area  mean smoothness  \\\n",
      "0        17.99         10.38          122.80     1001.0          0.11840   \n",
      "1        20.57         17.77          132.90     1326.0          0.08474   \n",
      "2        19.69         21.25          130.00     1203.0          0.10960   \n",
      "3        11.42         20.38           77.58      386.1          0.14250   \n",
      "4        20.29         14.34          135.10     1297.0          0.10030   \n",
      "\n",
      "   mean compactness  mean concavity  mean concave points  mean symmetry  \\\n",
      "0           0.27760          0.3001              0.14710         0.2419   \n",
      "1           0.07864          0.0869              0.07017         0.1812   \n",
      "2           0.15990          0.1974              0.12790         0.2069   \n",
      "3           0.28390          0.2414              0.10520         0.2597   \n",
      "4           0.13280          0.1980              0.10430         0.1809   \n",
      "\n",
      "   mean fractal dimension  ...  worst radius  worst texture  worst perimeter  \\\n",
      "0                 0.07871  ...         25.38          17.33           184.60   \n",
      "1                 0.05667  ...         24.99          23.41           158.80   \n",
      "2                 0.05999  ...         23.57          25.53           152.50   \n",
      "3                 0.09744  ...         14.91          26.50            98.87   \n",
      "4                 0.05883  ...         22.54          16.67           152.20   \n",
      "\n",
      "   worst area  worst smoothness  worst compactness  worst concavity  \\\n",
      "0      2019.0            0.1622             0.6656           0.7119   \n",
      "1      1956.0            0.1238             0.1866           0.2416   \n",
      "2      1709.0            0.1444             0.4245           0.4504   \n",
      "3       567.7            0.2098             0.8663           0.6869   \n",
      "4      1575.0            0.1374             0.2050           0.4000   \n",
      "\n",
      "   worst concave points  worst symmetry  worst fractal dimension  \n",
      "0                0.2654          0.4601                  0.11890  \n",
      "1                0.1860          0.2750                  0.08902  \n",
      "2                0.2430          0.3613                  0.08758  \n",
      "3                0.2575          0.6638                  0.17300  \n",
      "4                0.1625          0.2364                  0.07678  \n",
      "\n",
      "[5 rows x 30 columns]\n",
      "\n",
      "First 5 rows of target (y):\n",
      "0    0\n",
      "1    0\n",
      "2    0\n",
      "3    0\n",
      "4    0\n",
      "dtype: int64\n"
     ]
    }
   ],
   "source": [
    "# Part 1\n",
    "\n",
    "print(\"First 5 rows of features (X):\")\n",
    "print(X.head())\n",
    "\n",
    "print(\"\\nFirst 5 rows of target (y):\")\n",
    "print(y.head())"
   ]
  },
  {
   "cell_type": "code",
   "execution_count": 8,
   "id": "4ea67aa9",
   "metadata": {},
   "outputs": [
    {
     "name": "stdout",
     "output_type": "stream",
     "text": [
      "\n",
      "Shape of features (X): (569, 30)\n",
      "Shape of target (y): (569,)\n"
     ]
    }
   ],
   "source": [
    "print(\"\\nShape of features (X):\", X.shape)\n",
    "print(\"Shape of target (y):\", y.shape)"
   ]
  },
  {
   "cell_type": "code",
   "execution_count": 9,
   "id": "861a2f55",
   "metadata": {},
   "outputs": [
    {
     "name": "stdout",
     "output_type": "stream",
     "text": [
      "\n",
      "Target distribution:\n",
      "1    357\n",
      "0    212\n",
      "Name: count, dtype: int64\n"
     ]
    },
    {
     "data": {
      "image/png": "[encoded data removed]",
      "text/plain": [
       "<Figure size 640x480 with 1 Axes>"
      ]
     },
     "metadata": {},
     "output_type": "display_data"
    }
   ],
   "source": [
    "print(\"\\nTarget distribution:\")\n",
    "print(y.value_counts())\n",
    "\n",
    "sns.countplot(x=y)\n",
    "plt.title(\"Distribution of Target Variable\")\n",
    "plt.xlabel(\"Class (0=malignant, 1=benign)\")\n",
    "plt.ylabel(\"Count\")\n",
    "plt.show()\n"
   ]
  },
  {
   "cell_type": "markdown",
   "id": "6c7cd046",
   "metadata": {},
   "source": [
    "Interpretation:\n",
    "\n",
    "The Breast Cancer dataset contains 569 samples with 30 numerical features each. The target variable shows whether a tumor is malignant (0) or benign (1). The dataset is slightly imbalanced with more benign cases than malignant ones.\n",
    "\n",
    "\n"
   ]
  },
  {
   "cell_type": "code",
   "execution_count": null,
   "id": "349d5a8e",
   "metadata": {},
   "outputs": [
    {
     "name": "stdout",
     "output_type": "stream",
     "text": [
      "X_train shape: (455, 30)\n",
      "X_test shape: (114, 30)\n",
      "y_train shape: (455,)\n",
      "y_test shape: (114,)\n"
     ]
    }
   ],
   "source": [
    "# Part 2: Train Test Split\n",
    "\n",
    "from sklearn.model_selection import train_test_split\n",
    "\n",
    "X_train, X_test, y_train, y_test = train_test_split(\n",
    "    X, y,\n",
    "    test_size=0.2,\n",
    "    random_state=42,       \n",
    "    stratify = y\n",
    ")\n",
    "\n",
    "print(\"X_train shape:\", X_train.shape)\n",
    "print(\"X_test shape:\", X_test.shape)\n",
    "print(\"y_train shape:\", y_train.shape)\n",
    "print(\"y_test shape:\", y_test.shape)\n"
   ]
  },
  {
   "cell_type": "markdown",
   "id": "64545390",
   "metadata": {},
   "source": [
    "Why is stratification important?\n",
    "\n",
    "Stratification keeps the class distribution the same in both training and test sets. Stratification ensures that we don't accidently put mostly only one class into training and the rest in testing. This could potentially mess with model's learning and evaluation."
   ]
  },
  {
   "cell_type": "code",
   "execution_count": null,
   "id": "44245667",
   "metadata": {},
   "outputs": [
    {
     "name": "stdout",
     "output_type": "stream",
     "text": [
      "Means of first 3 scaled features:\n",
      " mean radius      -4.317426e-15\n",
      "mean texture      2.246067e-15\n",
      "mean perimeter   -7.383593e-16\n",
      "dtype: float64\n",
      "\n",
      "Standard deviations of first 3 scaled features:\n",
      " mean radius       1.001101\n",
      "mean texture      1.001101\n",
      "mean perimeter    1.001101\n",
      "dtype: float64\n"
     ]
    }
   ],
   "source": [
    "# Part 2: Feature Scaling\n",
    "\n",
    "scaler = StandardScaler()\n",
    "scaler.fit (X_train)\n",
    "\n",
    "X_train_scaled = scaler.transform(X_train)\n",
    "X_test_scaled = scaler.transform(X_test)\n",
    "\n",
    "X_train_scaled_df = pd.DataFrame(X_train_scaled, columns=X.columns)\n",
    "print(\"Means of first 3 scaled features:\\n\", X_train_scaled_df.iloc[:, :3].mean())\n",
    "print(\"\\nStandard deviations of first 3 scaled features:\\n\", X_train_scaled_df.iloc[:, :3].std())\n"
   ]
  },
  {
   "cell_type": "markdown",
   "id": "8cff14e9",
   "metadata": {},
   "source": [
    "Why only fit on training data?\n",
    "\n",
    "We fit only on the training data because we want the test set to be viewed as unseen, real-world data. Using only training data ensures that the model doesn't gain any prior information from the test set. Thus, we can maintain the fairness of the evaluation process as it ensures that no data leakage occurs."
   ]
  },
  {
   "cell_type": "code",
   "execution_count": null,
   "id": "6e289aaa",
   "metadata": {},
   "outputs": [
    {
     "name": "stdout",
     "output_type": "stream",
     "text": [
      "Accuracy Score: 0.9824561403508771\n"
     ]
    },
    {
     "data": {
      "image/png": "[encoded data removed]",
      "text/plain": [
       "<Figure size 640x480 with 2 Axes>"
      ]
     },
     "metadata": {},
     "output_type": "display_data"
    }
   ],
   "source": [
    "# Part 3\n",
    "\n",
    "log_reg = LogisticRegression(solver='liblinear', random_state=42)\n",
    "log_reg.fit(X_train_scaled, y_train)\n",
    "\n",
    "y_predicted= log_reg.predict(X_test_scaled)\n",
    "\n",
    "from sklearn.metrics import accuracy_score\n",
    "\n",
    "accuracy = accuracy_score(y_test, y_predicted)\n",
    "print(\"Accuracy Score:\", accuracy)\n",
    "\n",
    "from sklearn.metrics import ConfusionMatrixDisplay, confusion_matrix\n",
    "ConfusionMatrixDisplay.from_predictions(y_test, y_predicted, display_labels=[\"Malignant\", \"Benign\"])\n",
    "plt.title(\"Confusion Matrix\")\n",
    "plt.show()\n",
    "\n",
    "\n"
   ]
  },
  {
   "cell_type": "code",
   "execution_count": 16,
   "id": "0394cd1f",
   "metadata": {},
   "outputs": [
    {
     "name": "stdout",
     "output_type": "stream",
     "text": [
      "Confusion Matrix:\n",
      " [[41  1]\n",
      " [ 1 71]]\n"
     ]
    }
   ],
   "source": [
    "print(\"Confusion Matrix:\\n\", confusion_matrix(y_test, y_predicted))\n"
   ]
  },
  {
   "cell_type": "code",
   "execution_count": 17,
   "id": "16396ec5",
   "metadata": {},
   "outputs": [
    {
     "name": "stdout",
     "output_type": "stream",
     "text": [
      "Classification Report:\n",
      "               precision    recall  f1-score   support\n",
      "\n",
      "   Malignant       0.98      0.98      0.98        42\n",
      "      Benign       0.99      0.99      0.99        72\n",
      "\n",
      "    accuracy                           0.98       114\n",
      "   macro avg       0.98      0.98      0.98       114\n",
      "weighted avg       0.98      0.98      0.98       114\n",
      "\n"
     ]
    }
   ],
   "source": [
    "from sklearn.metrics import classification_report\n",
    "\n",
    "print(\"Classification Report:\\n\", classification_report(y_test, y_predicted, target_names=[\"Malignant\", \"Benign\"]))\n"
   ]
  },
  {
   "cell_type": "markdown",
   "id": "820276f2",
   "metadata": {},
   "source": [
    "Interpretation:\n",
    "\n",
    "The logistic regression model achieved an accuracy of approximately 0.982, which means that the model correctly classified 98.2% of the tumors. \n",
    "\n",
    "1. The confusion matrix shows that the model correctly identified most benign and malignant cases correctly with only a small amount of misclassifications.\n",
    "2. The precision score is very high which shows that the model is almost always correct.\n",
    "3. Recall for malignant tumors shows how many actual malignant cases were caught by the model which is critical in medical diagnostics\n",
    "4. The F1 score is 0.98 approx which is high enough to suggest that the model is performing well in both precision and recall - not just one of them.\n",
    "\n",
    "Overall, the model performs well and is reliable, but depending on some false negatives, it might still need improvements in high-stakes real-world use.\n",
    "\n",
    "\n"
   ]
  },
  {
   "cell_type": "code",
   "execution_count": null,
   "id": "0fbecbc3",
   "metadata": {},
   "outputs": [
    {
     "name": "stdout",
     "output_type": "stream",
     "text": [
      "Cross-Validation Accuracy Scores for each fold:\n",
      "[0.98245614 0.97368421 0.97368421 0.97368421 0.99115044]\n",
      "\n",
      "Mean CV Accuracy: 0.9789318428815402\n",
      "Standard Deviation of CV Accuracy: 0.006990390328940835\n"
     ]
    }
   ],
   "source": [
    "# Part 4\n",
    "\n",
    "\n",
    "from sklearn.pipeline import Pipeline\n",
    "\n",
    "pipeline = Pipeline([\n",
    "    ('scaler', StandardScaler()),\n",
    "    ('log_reg', LogisticRegression(solver='liblinear', random_state=42))\n",
    "])\n",
    "\n",
    "cv_scores = cross_val_score(pipeline, X, y, cv=5, scoring='accuracy')\n",
    "print(\"Cross-Validation Accuracy Scores for each fold:\")\n",
    "print(cv_scores)\n",
    "\n",
    "print(\"\\nMean CV Accuracy:\", cv_scores.mean())\n",
    "print(\"Standard Deviation of CV Accuracy:\", cv_scores.std())\n"
   ]
  },
  {
   "cell_type": "markdown",
   "id": "8bc8ad3c",
   "metadata": {},
   "source": [
    "Interpretation: (7e)\n",
    "\n",
    "The mean CV accuracy provides a more reliable estimate of the model’s general performance than a single train-test split because this actually makes note of the variance in data distribution through testing across many folds. The mean accuracy from Part 3 is very close to the mean CV accuracy we got here, which shows the the model can generalise well. \n",
    "\n",
    "The Standard Deviation of the CV proves the stability of the model. The standard deviation here is very low (0.00699) which means that the model's performance is very consistent across various different subset of the data. "
   ]
  },
  {
   "cell_type": "code",
   "execution_count": 25,
   "id": "b87019d9",
   "metadata": {},
   "outputs": [
    {
     "name": "stdout",
     "output_type": "stream",
     "text": [
      "Pipeline Test Accuracy: 0.9824561403508771\n"
     ]
    }
   ],
   "source": [
    "pipeline.fit(X_train, y_train)\n",
    "y_predicted_pipe = pipeline.predict(X_test)\n",
    "\n",
    "accuracy_pipe = accuracy_score(y_test, y_predicted_pipe)\n",
    "print(\"Pipeline Test Accuracy:\", accuracy_pipe)\n"
   ]
  },
  {
   "cell_type": "markdown",
   "id": "c2bf168d",
   "metadata": {},
   "source": [
    "Comparing Accuracy:\n",
    "The pipeline based test accuracy is almost the exact same as the accuracy we obtaind in Part 3b. Thus, this confirms that the pipeline setup performs equally well while reducing the complexity of code to be written and the manual steps to be taken. "
   ]
  },
  {
   "cell_type": "code",
   "execution_count": null,
   "id": "790e0fab",
   "metadata": {},
   "outputs": [
    {
     "name": "stdout",
     "output_type": "stream",
     "text": [
      "Random Forest Pipeline Accuracy: 0.956140350877193\n",
      "\n",
      "Confusion Matrix:\n",
      " [[39  3]\n",
      " [ 2 70]]\n"
     ]
    },
    {
     "data": {
      "image/png": "[encoded data removed]",
      "text/plain": [
       "<Figure size 640x480 with 2 Axes>"
      ]
     },
     "metadata": {},
     "output_type": "display_data"
    },
    {
     "name": "stdout",
     "output_type": "stream",
     "text": [
      "\n",
      "Classification Report:\n",
      "               precision    recall  f1-score   support\n",
      "\n",
      "           0       0.95      0.93      0.94        42\n",
      "           1       0.96      0.97      0.97        72\n",
      "\n",
      "    accuracy                           0.96       114\n",
      "   macro avg       0.96      0.95      0.95       114\n",
      "weighted avg       0.96      0.96      0.96       114\n",
      "\n"
     ]
    }
   ],
   "source": [
    "# Part 5\n",
    "\n",
    "rf_pipeline = Pipeline([\n",
    "    ('scaler', StandardScaler()),\n",
    "    ('rf', RandomForestClassifier(n_estimators=100, random_state=42))\n",
    "])\n",
    "\n",
    "rf_pipeline.fit(X_train, y_train)\n",
    "y_pred_rf = rf_pipeline.predict(X_test)\n",
    "\n",
    "# Accuracy\n",
    "accuracy_rf = accuracy_score(y_test, y_pred_rf)\n",
    "print(\"Random Forest Pipeline Accuracy:\", accuracy_rf)\n",
    "\n",
    "# Confusion Matrix\n",
    "conf_matrix_rf = confusion_matrix(y_test, y_pred_rf)\n",
    "print(\"\\nConfusion Matrix:\\n\", conf_matrix_rf)\n",
    "\n",
    "# Visualize Confusion Matrix\n",
    "ConfusionMatrixDisplay(confusion_matrix=conf_matrix_rf).plot()\n",
    "plt.title(\"Random Forest: Confusion Matrix\")\n",
    "plt.show()\n",
    "\n",
    "# Classification Report\n",
    "print(\"\\nClassification Report:\\n\", classification_report(y_test, y_pred_rf))\n",
    "\n"
   ]
  },
  {
   "cell_type": "markdown",
   "id": "2632c5bb",
   "metadata": {},
   "source": [
    "Part 6: Reflection \n",
    "\n",
    "If we compare the 2 models, the Random Forest pipeline achieved an accuracy of 0.956, while the Logistic Regression pipeline achieved 0.982 accuracy on the same test set. While both models performed reasonably well, the Logistic Regression pipeline achieved slightly better results in terms of overall accuracy.\n",
    "\n",
    "If we analyse the specific metrics like precision from the classification reports, the Logistics Regression showed a 0.2 higher recall for the malignant class. I think even this small margin is critical in medical applications where failing to detect a malignant tumor can have extremely severe consequences. However, the Random Forest model had a higher f1 score and is thus more balanced in both precision and recall. "
   ]
  }
 ],
 "metadata": {
  "kernelspec": {
   "display_name": "horizons25",
   "language": "python",
   "name": "python3"
  },
  "language_info": {
   "codemirror_mode": {
    "name": "ipython",
    "version": 3
   },
   "file_extension": ".py",
   "mimetype": "text/x-python",
   "name": "python",
   "nbconvert_exporter": "python",
   "pygments_lexer": "ipython3",
   "version": "3.12.9"
  }
 },
 "nbformat": 4,
 "nbformat_minor": 5
}
