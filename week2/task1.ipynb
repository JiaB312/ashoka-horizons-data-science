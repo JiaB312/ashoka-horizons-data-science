{
 "cells": [
  {
   "cell_type": "code",
   "execution_count": 1,
   "id": "1c9acc5e",
   "metadata": {},
   "outputs": [],
   "source": [
    "scores = [55,92,78,60,85,78,90,66,73,88]"
   ]
  },
  {
   "cell_type": "code",
   "execution_count": 15,
   "id": "97369dd1",
   "metadata": {},
   "outputs": [
    {
     "name": "stdout",
     "output_type": "stream",
     "text": [
      "765\n"
     ]
    }
   ],
   "source": [
    "# Mean\n",
    "sum_of_values = 0\n",
    "for value in scores:\n",
    "    sum_of_values += value\n",
    "print (sum_of_values)"
   ]
  },
  {
   "cell_type": "code",
   "execution_count": 16,
   "id": "6dc7ea13",
   "metadata": {},
   "outputs": [
    {
     "name": "stdout",
     "output_type": "stream",
     "text": [
      "10\n"
     ]
    }
   ],
   "source": [
    "N = len(scores)\n",
    "print (N)"
   ]
  },
  {
   "cell_type": "code",
   "execution_count": 17,
   "id": "45c1c617",
   "metadata": {},
   "outputs": [
    {
     "name": "stdout",
     "output_type": "stream",
     "text": [
      "Mean: 76.5\n"
     ]
    }
   ],
   "source": [
    "mean = sum_of_values/N\n",
    "print (f\"Mean: {mean}\")"
   ]
  },
  {
   "cell_type": "code",
   "execution_count": 20,
   "id": "b56ba53a",
   "metadata": {},
   "outputs": [
    {
     "name": "stdout",
     "output_type": "stream",
     "text": [
      "Median: 78.0\n"
     ]
    }
   ],
   "source": [
    "# Median\n",
    "scores = [55, 92, 78, 60, 85, 78, 90, 66, 73, 88]\n",
    "\n",
    "sorted_scores = sorted(scores)\n",
    "N = len(sorted_scores)\n",
    "middle= N//2\n",
    "if N % 2 == 1:\n",
    "    median = sorted_scores[middle]\n",
    "else:\n",
    "    median = (sorted_scores [middle - 1] + sorted_scores [middle])/2\n",
    "print (f\"Median:\",median)"
   ]
  },
  {
   "cell_type": "code",
   "execution_count": 31,
   "id": "10d980b6",
   "metadata": {},
   "outputs": [
    {
     "name": "stdout",
     "output_type": "stream",
     "text": [
      "{55: 1, 92: 1, 78: 2, 60: 1, 85: 1, 90: 1, 66: 1, 73: 1, 88: 1}\n",
      "2 x 78\n",
      "Mode: 78\n"
     ]
    }
   ],
   "source": [
    "# Mode\n",
    "frequency = {}\n",
    "for x in scores:\n",
    "    if x in frequency:\n",
    "        frequency[x] += 1\n",
    "    else:\n",
    "        frequency[x]=1\n",
    "print (frequency)\n",
    "max_count = 0\n",
    "mode = 0\n",
    "for x in frequency:\n",
    "    if frequency[x]> max_count:\n",
    "        max_count = frequency [x]\n",
    "        mode = x\n",
    "print (max_count,\"x\", mode)\n",
    "print (\"Mode:\", mode)"
   ]
  },
  {
   "cell_type": "code",
   "execution_count": 30,
   "id": "1f0489a4",
   "metadata": {},
   "outputs": [
    {
     "name": "stdout",
     "output_type": "stream",
     "text": [
      "Range: 92 - 55\n",
      "Range: 37\n"
     ]
    }
   ],
   "source": [
    "# Range\n",
    "range = max(scores) - min(scores)\n",
    "a= max(scores)\n",
    "b= min(scores)\n",
    "print (\"Range:\",a, \"-\", b)\n",
    "print (\"Range:\",range)"
   ]
  },
  {
   "cell_type": "code",
   "execution_count": 25,
   "id": "7dbdb9ac",
   "metadata": {},
   "outputs": [
    {
     "name": "stdout",
     "output_type": "stream",
     "text": [
      "Squared Differences: [462.25, 240.25, 2.25, 272.25, 72.25, 2.25, 182.25, 110.25, 12.25, 132.25]\n",
      "Variance (Population): 148.85\n"
     ]
    }
   ],
   "source": [
    "# Variance (Population)\n",
    "squared_diffs = [(score-mean)**2 for score in scores]\n",
    "variance = sum(squared_diffs)/N\n",
    "print (\"Squared Differences:\", squared_diffs)\n",
    "print (\"Variance (Population):\", variance)\n"
   ]
  },
  {
   "cell_type": "code",
   "execution_count": 13,
   "id": "3eb49807",
   "metadata": {},
   "outputs": [
    {
     "name": "stdout",
     "output_type": "stream",
     "text": [
      "Standard Devaiation: 12.200409829181968\n"
     ]
    }
   ],
   "source": [
    "# Standard Deviation\n",
    "\n",
    "std_dev = math.sqrt(variance)\n",
    "print (\"Standard Devaiation:\", std_dev)\n"
   ]
  }
 ],
 "metadata": {
  "kernelspec": {
   "display_name": "horizons25",
   "language": "python",
   "name": "python3"
  },
  "language_info": {
   "codemirror_mode": {
    "name": "ipython",
    "version": 3
   },
   "file_extension": ".py",
   "mimetype": "text/x-python",
   "name": "python",
   "nbconvert_exporter": "python",
   "pygments_lexer": "ipython3",
   "version": "3.12.9"
  }
 },
 "nbformat": 4,
 "nbformat_minor": 5
}
