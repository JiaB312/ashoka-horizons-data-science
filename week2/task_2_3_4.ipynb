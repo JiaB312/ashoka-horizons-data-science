{
 "cells": [
  {
   "cell_type": "code",
   "execution_count": 4,
   "id": "488ee6c3",
   "metadata": {},
   "outputs": [],
   "source": [
    "import numpy as np"
   ]
  },
  {
   "cell_type": "code",
   "execution_count": 37,
   "id": "e90a5e80",
   "metadata": {},
   "outputs": [
    {
     "name": "stdout",
     "output_type": "stream",
     "text": [
      "The manual salary (Y) predictions are: [47 54 61 68 75 82 89 96]\n",
      "Mean Squared Error for guess: 4.5\n"
     ]
    }
   ],
   "source": [
    "# Task 2.1\n",
    "\n",
    "X_experience = np . array ([1 , 2 , 3 , 4 , 5 , 6 , 7 , 8]) . reshape ( -1 , 1)\n",
    "Y_salary = np . array ([45 , 50 , 60 , 65 , 75 , 80 , 90 , 95])\n",
    "\n",
    "m = 7\n",
    "c = 40\n",
    "\n",
    "predicted_salary_Y = m  * X_experience + c\n",
    "print (\"The manual salary (Y) predictions are:\", predicted_salary_Y.flatten())\n",
    "\n",
    "mse = np.mean((Y_salary - predicted_salary_Y.flatten()) ** 2)\n",
    "print(\"Mean Squared Error for guess:\", mse)\n",
    "\n"
   ]
  },
  {
   "cell_type": "code",
   "execution_count": 38,
   "id": "be0581ac",
   "metadata": {},
   "outputs": [
    {
     "name": "stdout",
     "output_type": "stream",
     "text": [
      "Slope (m): 7.380952380952383\n",
      "Intercept (c): 36.78571428571428\n",
      "Predicted Salaries: [44.16666667 51.54761905 58.92857143 66.30952381 73.69047619 81.07142857\n",
      " 88.45238095 95.83333333]\n",
      "The mean squared error is: 1.4880952380952395\n",
      "The R^2 score is: 0.994824016563147\n"
     ]
    }
   ],
   "source": [
    "# Task 2.2\n",
    "\n",
    "from sklearn.linear_model import LinearRegression\n",
    "\n",
    "model = LinearRegression()\n",
    "model.fit(X_experience, Y_salary)\n",
    "m = model.coef_[0]\n",
    "c=model.intercept_\n",
    "print (\"Slope (m):\", m)\n",
    "print (\"Intercept (c):\",c)\n",
    "\n",
    "Y_predicted_model = model.predict(X_experience)\n",
    "print (\"Predicted Salaries:\", Y_predicted_model)\n",
    "\n",
    "from sklearn.metrics import mean_squared_error, r2_score\n",
    "\n",
    "mse = mean_squared_error (Y_salary, Y_predicted_model)\n",
    "r2 = r2_score(Y_salary,Y_predicted_model)\n",
    "print (\"The mean squared error is:\",mse)\n",
    "print(\"The R^2 score is:\", r2)\n",
    "\n"
   ]
  },
  {
   "cell_type": "markdown",
   "id": "b95eaab0",
   "metadata": {},
   "source": [
    "Interpretation of Tasks 2.1 and 2.2\n",
    "\n",
    "1. The relationship between m and c shows us that for every 1 year of experience , the salary increases by approximately 7.38(m) thousand. The inital salary without any experience is approximately 36.79 thousand (c)\n",
    "\n",
    "2. The Mean Squared error helps us understand how inaccurate or accurate our prediction may be. It basically tells us the prediction's proximity to reality or, more accurately, the average squared difference between the predicted and initial salaries. Therfore, this means that a smaller MSE shows that our predictions are better. My prediction had a mean squared error of about 1.488.\n",
    "\n",
    "3. The R^2 score basically shows us  how well the regression line I made fits the actual data. If R^2 was equal to 1 then the line was perfect. "
   ]
  },
  {
   "cell_type": "code",
   "execution_count": 39,
   "id": "3653ebca",
   "metadata": {},
   "outputs": [
    {
     "name": "stdout",
     "output_type": "stream",
     "text": [
      "Predicted Probabilities: [0.01798621 0.04742587 0.11920292 0.26894142 0.5        0.73105858\n",
      " 0.88079708 0.95257413 0.98201379 0.99330715]\n",
      "Predicted Classes are: [0 0 0 0 1 1 1 1 1 1]\n",
      "Manual Accuracy is: 0.9\n"
     ]
    }
   ],
   "source": [
    "# Task 3.1\n",
    "from sklearn.linear_model import LogisticRegression\n",
    "X_prep_hours = np.array([0.5, 1.0, 1.5, 2.0, 2.5, 3.0, 3.5, 4.0, 4.5, 5.0]).reshape(-1, 1)\n",
    "Y_pass_fail = np.array([0, 0, 0, 0, 1, 0, 1, 1, 1, 1])\n",
    "\n",
    "m= 2\n",
    "c= -5\n",
    "z= m * X_prep_hours+c\n",
    "\n",
    "def sigmoid(z):\n",
    "    return 1 / (1 + np.exp(-z))\n",
    "\n",
    "pred_prob = sigmoid(z)\n",
    "print(\"Predicted Probabilities:\", pred_prob.flatten())\n",
    "\n",
    "pred_classes = (pred_prob >= 0.5).astype(int).flatten()\n",
    "print(\"Predicted Classes are:\", pred_classes)\n",
    "\n",
    "correct = np.sum(pred_classes == Y_pass_fail)\n",
    "accuracy = correct / len(Y_pass_fail)\n",
    "print(\"Manual Accuracy is:\", accuracy)\n"
   ]
  },
  {
   "cell_type": "code",
   "execution_count": 33,
   "id": "63fe372d",
   "metadata": {},
   "outputs": [
    {
     "name": "stdout",
     "output_type": "stream",
     "text": [
      "Predicted Classes on Training Data: [0 0 0 1 1 1 1 1 1 1]\n",
      "Training Data Accuracy is: 0.8\n",
      "Confusion Matrix is:\n",
      " [[3 2]\n",
      " [0 5]]\n"
     ]
    }
   ],
   "source": [
    "# Task 3.2\n",
    "from sklearn.metrics import accuracy_score, confusion_matrix\n",
    "\n",
    "model=LogisticRegression(solver='liblinear')  \n",
    "model.fit(X_prep_hours, Y_pass_fail)\n",
    "\n",
    "Y_pred_model =model.predict(X_prep_hours)\n",
    "print(\"Predicted Classes on Training Data:\", Y_pred_model)\n",
    "\n",
    "accuracy_model= accuracy_score(Y_pass_fail, Y_pred_model)\n",
    "conf_matrix= confusion_matrix(Y_pass_fail, Y_pred_model)\n",
    "\n",
    "print(\"Training Data Accuracy is:\", accuracy_model)\n",
    "print(\"Confusion Matrix is:\\n\", conf_matrix)\n"
   ]
  },
  {
   "cell_type": "markdown",
   "id": "d6164cba",
   "metadata": {},
   "source": [
    "Interpreting Tasks 3.1 and 3.2\n",
    "\n",
    "1. The accuracy score reflects how many predictions were correct out of all the attempts made. If the accuracy is higher, then the predictions are better. \n",
    "\n",
    "2. True Positives = Pass Predictions are correct\n",
    "True Negatives = Fail Predictions are correct.\n",
    "False Positives = Model predicts pass, in reality student fails\n",
    "False Negatives = Model predicts fail, in reality student passes.\n",
    "\n"
   ]
  },
  {
   "cell_type": "code",
   "execution_count": null,
   "id": "6bd5bcfd",
   "metadata": {},
   "outputs": [
    {
     "name": "stdout",
     "output_type": "stream",
     "text": [
      "Point 0 -> Cluster 1\n",
      "Point 1 -> Cluster 2\n",
      "Point 2 -> Cluster 2\n",
      "Point 3 -> Cluster 1\n",
      "Point 4 -> Cluster 2\n",
      "Point 5 -> Cluster 2\n",
      "Point 6 -> Cluster 2\n",
      "Point 7 -> Cluster 1\n",
      "\n",
      "Centroid 1 (updated): [3.66666667 9.        ]\n",
      "Centroid 2 (updated): [4.8 4. ]\n"
     ]
    }
   ],
   "source": [
    "# Task 4.1 \n",
    "import numpy as np\n",
    "import math  \n",
    "\n",
    "X_cluster_data = np.array([\n",
    "    [2, 10], [2, 5], [8, 4], [5, 8], [7, 5], [6, 4], [1, 2], [4, 9]\n",
    "])\n",
    "\n",
    "centroid1 = [2, 10]\n",
    "centroid2 = [2, 5]\n",
    "\n",
    "assignments = []\n",
    "\n",
    "for i, point in enumerate(X_cluster_data):\n",
    "    dist_to_centroid1 = np.linalg.norm(point - centroid1)\n",
    "    dist_to_centroid2 = np.linalg.norm(point - centroid2)\n",
    "\n",
    "    if dist_to_centroid1 <= dist_to_centroid2: \n",
    "        assignments.append(1)\n",
    "    else:\n",
    "        assignments.append(2)\n",
    "\n",
    "    print(\"Point\", i, \"-> Cluster\", assignments[-1]) \n",
    "\n",
    "cluster1_points = []\n",
    "cluster2_points = []\n",
    "\n",
    "for i in range(len(assignments)):\n",
    "    if assignments[i] == 1:\n",
    "        cluster1_points.append(X_cluster_data[i])\n",
    "    else:\n",
    "        cluster2_points.append(X_cluster_data[i])\n",
    "\n",
    "new_centroid1 = np.mean(cluster1_points, axis=0)\n",
    "new_centroid2 = np.mean(cluster2_points, axis=0)\n",
    "\n",
    "print()\n",
    "print(\"New Centroid 1 :\", new_centroid1)\n",
    "print(\"New Centroid 2:\", new_centroid2)\n"
   ]
  },
  {
   "cell_type": "code",
   "execution_count": 42,
   "id": "9ba2a64b",
   "metadata": {},
   "outputs": [
    {
     "name": "stderr",
     "output_type": "stream",
     "text": [
      "Matplotlib is building the font cache; this may take a moment.\n"
     ]
    },
    {
     "name": "stdout",
     "output_type": "stream",
     "text": [
      "Final centroids: [[5.5  3.75]\n",
      " [3.25 8.  ]]\n",
      "Cluster Labels: [1 1 0 1 0 0 0 1]\n"
     ]
    }
   ],
   "source": [
    "# Task 4.2\n",
    "\n",
    "import numpy as np\n",
    "from sklearn.cluster import KMeans\n",
    "import matplotlib.pyplot as plt\n",
    "\n",
    "X_cluster_data = np.array([\n",
    "    [2, 10], [2, 5], [8, 4], [5, 8], [7, 5], [6, 4], [1, 2], [4, 9]\n",
    "])\n",
    "\n",
    "kmeans = KMeans(n_clusters=2, random_state=42, n_init='auto') \n",
    "kmeans.fit(X_cluster_data)\n",
    "\n",
    "print(\"Final centroids:\", kmeans.cluster_centers_)\n",
    "print(\"Cluster Labels:\", kmeans.labels_)\n",
    "\n"
   ]
  },
  {
   "cell_type": "code",
   "execution_count": 43,
   "id": "e61cc7e2",
   "metadata": {},
   "outputs": [
    {
     "data": {
      "image/png": "[encoded data removed]",
      "text/plain": [
       "<Figure size 640x480 with 1 Axes>"
      ]
     },
     "metadata": {},
     "output_type": "display_data"
    }
   ],
   "source": [
    "# Optional Plotting (i tried)\n",
    "\n",
    "plt.scatter(X_cluster_data[:, 0], X_cluster_data[:, 1], c=kmeans.labels_, cmap='viridis', s=100)\n",
    "\n",
    "\n",
    "plt.scatter(kmeans.cluster_centers_[:, 0], kmeans.cluster_centers_[:, 1],\n",
    "            c='red', marker='X', s=150) \n",
    "\n",
    "plt.title('K Means Clustering')\n",
    "plt.xlabel('X')\n",
    "\n",
    "plt.grid(True)\n",
    "plt.show()\n"
   ]
  },
  {
   "cell_type": "markdown",
   "id": "69bcd943",
   "metadata": {},
   "source": [
    "Interpretations regarding Tasks 4.1, 4.2\n",
    "\n",
    "1. The centrids are normally close but sklearn runs multiple initialisations so it might find better centroids as it runs more times. They might be different because during manual calculation, we pick only 1 centroid and keep them the same throughout. But scikit-learn tests different starting spots and keeps updating centroids until it finds the best fit for the data."
   ]
  }
 ],
 "metadata": {
  "kernelspec": {
   "display_name": "horizons25",
   "language": "python",
   "name": "python3"
  },
  "language_info": {
   "codemirror_mode": {
    "name": "ipython",
    "version": 3
   },
   "file_extension": ".py",
   "mimetype": "text/x-python",
   "name": "python",
   "nbconvert_exporter": "python",
   "pygments_lexer": "ipython3",
   "version": "3.12.9"
  }
 },
 "nbformat": 4,
 "nbformat_minor": 5
}
