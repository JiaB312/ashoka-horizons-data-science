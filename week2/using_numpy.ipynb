{
 "cells": [
  {
   "cell_type": "code",
   "execution_count": 2,
   "id": "ff07a23d",
   "metadata": {},
   "outputs": [],
   "source": [
    "import numpy as np"
   ]
  },
  {
   "cell_type": "code",
   "execution_count": null,
   "id": "241700d8",
   "metadata": {},
   "outputs": [],
   "source": [
    "\n",
    "scores = [55,92,78,60,85,78,90,66,73,88]\n",
    "arr = np.array(scores)"
   ]
  },
  {
   "cell_type": "code",
   "execution_count": null,
   "id": "1ca66a68",
   "metadata": {},
   "outputs": [
    {
     "name": "stdout",
     "output_type": "stream",
     "text": [
      "Mean using numpy is: 76.5\n"
     ]
    }
   ],
   "source": [
    "# Mean\n",
    "numpy_mean = np.mean(arr)\n",
    "print (\"Mean using NumPy is:\",numpy_mean)"
   ]
  },
  {
   "cell_type": "code",
   "execution_count": null,
   "id": "32117c26",
   "metadata": {},
   "outputs": [
    {
     "name": "stdout",
     "output_type": "stream",
     "text": [
      "Median using NumPy is: 78.0\n"
     ]
    }
   ],
   "source": [
    "# Median\n",
    "numpy_median = np.median (arr)\n",
    "print (\"Median using NumPy is:\",numpy_median)"
   ]
  },
  {
   "cell_type": "code",
   "execution_count": 15,
   "id": "8a4cb58f",
   "metadata": {},
   "outputs": [
    {
     "name": "stdout",
     "output_type": "stream",
     "text": [
      "Mode: 78 appears 2 times\n"
     ]
    }
   ],
   "source": [
    "# Mode\n",
    "values, counts = np.unique(arr, return_counts=True)\n",
    "max_count_index = np.argmax(counts)\n",
    "print(\"Mode:\", values[max_count_index], \"appears\", counts[max_count_index], \"times\")\n"
   ]
  },
  {
   "cell_type": "code",
   "execution_count": 10,
   "id": "bdc96c06",
   "metadata": {},
   "outputs": [
    {
     "name": "stdout",
     "output_type": "stream",
     "text": [
      "Range using NumPy is: 92 - 55\n",
      "Range using NumPy is: 37\n"
     ]
    }
   ],
   "source": [
    "# Range\n",
    "numpy_range=np.max(arr)-np.min(arr)\n",
    "a = max(arr)\n",
    "b= min(arr)\n",
    "print (\"Range using NumPy is:\",a,\"-\",b)\n",
    "print (\"Range using NumPy is:\", numpy_range)"
   ]
  },
  {
   "cell_type": "code",
   "execution_count": 12,
   "id": "08550100",
   "metadata": {},
   "outputs": [
    {
     "name": "stdout",
     "output_type": "stream",
     "text": [
      "Population Variance using NumPy is: 148.85\n"
     ]
    }
   ],
   "source": [
    "# Population variance\n",
    "numpy_variance = np.var(arr)\n",
    "print (\"Population Variance using NumPy is:\", numpy_variance)"
   ]
  },
  {
   "cell_type": "code",
   "execution_count": 13,
   "id": "11a4cbef",
   "metadata": {},
   "outputs": [
    {
     "name": "stdout",
     "output_type": "stream",
     "text": [
      "Population Standard Deviation using NumPy is: 12.200409829181968\n"
     ]
    }
   ],
   "source": [
    "#Population Standard Deviation\n",
    "numpy_std_dev = np.std (arr)\n",
    "print (\"Population Standard Deviation using NumPy is:\",numpy_std_dev)"
   ]
  },
  {
   "cell_type": "markdown",
   "id": "b25ffdea",
   "metadata": {},
   "source": [
    "All values are same or similar. Thus, that means that the manual Python method which I used to calculate was accurate. "
   ]
  }
 ],
 "metadata": {
  "kernelspec": {
   "display_name": "horizons25",
   "language": "python",
   "name": "python3"
  },
  "language_info": {
   "codemirror_mode": {
    "name": "ipython",
    "version": 3
   },
   "file_extension": ".py",
   "mimetype": "text/x-python",
   "name": "python",
   "nbconvert_exporter": "python",
   "pygments_lexer": "ipython3",
   "version": "3.12.9"
  }
 },
 "nbformat": 4,
 "nbformat_minor": 5
}
